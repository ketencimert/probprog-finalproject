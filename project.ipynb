{
 "cells": [
  {
   "cell_type": "code",
   "execution_count": 1,
   "id": "eb8bae6d",
   "metadata": {},
   "outputs": [
    {
     "name": "stderr",
     "output_type": "stream",
     "text": [
      "/home/mk4139/miniconda3/envs/probprog/lib/python3.9/site-packages/colorcet/__init__.py:82: UserWarning: Trying to register the cmap 'cet_gray' which already exists.\n",
      "  register_cmap(\"cet_\"+name, cmap=cm[name])\n",
      "/home/mk4139/miniconda3/envs/probprog/lib/python3.9/site-packages/colorcet/__init__.py:82: UserWarning: Trying to register the cmap 'cet_gray_r' which already exists.\n",
      "  register_cmap(\"cet_\"+name, cmap=cm[name])\n",
      "/home/mk4139/miniconda3/envs/probprog/lib/python3.9/site-packages/bebi103/viz.py:38: UserWarning: DataShader import failed with error \"No module named 'datashader'\".\n",
      "Features requiring DataShader will not work and you will get exceptions.\n",
      "  warnings.warn(\n"
     ]
    }
   ],
   "source": [
    "# Load packages used in this notebook\n",
    "import os\n",
    "import json\n",
    "import numpy as np\n",
    "import pandas as pd\n",
    "\n",
    "from cmdstanpy import CmdStanModel, cmdstan_path, install_cmdstan\n",
    "\n",
    "import arviz as az\n",
    "\n",
    "import bebi103\n",
    "\n",
    "import bokeh\n",
    "from bokeh.io import output_notebook, show\n",
    "\n",
    "import matplotlib.pyplot as plt\n",
    "\n",
    "%load_ext pycodestyle_magic\n",
    "\n",
    "#%pycodestyle_off"
   ]
  },
  {
   "cell_type": "markdown",
   "id": "397c389f",
   "metadata": {},
   "source": [
    "# Beyond the Numerical Bayesian Inference Algorithm: Glicko2"
   ]
  },
  {
   "cell_type": "markdown",
   "id": "dc2cfa96",
   "metadata": {},
   "source": [
    "Final project for Alp Küçükelbir's Machine Learning Probabilistic Programming (COMS6998) course."
   ]
  },
  {
   "cell_type": "markdown",
   "id": "e14983ba",
   "metadata": {},
   "source": [
    "# Introduction"
   ]
  },
  {
   "cell_type": "markdown",
   "id": "6b0b0746",
   "metadata": {},
   "source": [
    "\n",
    "**Model:** Based on \"Dynamic paired comparison models with stochastic variances\" (http://www.glicko.net/research/dpcmsv.pdf). The model consists of ranking players in a stochastic variance modeling setting similar to, famous statistical model, **GARCH**.\n",
    "\n",
    "**Goal:** The paper represents a coupling of a model and an approximate Bayesian inference algorithm that marginalizes the model likelihood using the prior distribution of opponents which may result in information loss. In this project, we experiment with the inference algorithms tought in the lecture to investigate if we can improve the ranking algorithm."
   ]
  },
  {
   "cell_type": "markdown",
   "id": "8c805c98",
   "metadata": {},
   "source": [
    "**Box's Loop**"
   ]
  },
  {
   "cell_type": "markdown",
   "id": "97db857b",
   "metadata": {},
   "source": [
    "![Box's Loop](./boxsloop.png)\n"
   ]
  },
  {
   "cell_type": "markdown",
   "id": "a1233187",
   "metadata": {},
   "source": [
    "## 1. Data"
   ]
  },
  {
   "cell_type": "markdown",
   "id": "114fbca3",
   "metadata": {},
   "source": [
    "To solve this problem we use a combination of the Lichess API (https://lichess.org/api) and the Deloitte/FIDE Chess Rating Challenge data, which are both publicly available. The FIDE data set consists of 135 months of professional chess game results (win, draw or loss) including more than 1,840,124 games between 14,118 unique players. The Lichess data has many more games readily available as one of the most popular online chess platforms."
   ]
  },
  {
   "cell_type": "markdown",
   "id": "73674433",
   "metadata": {},
   "source": [
    "## 2. Model"
   ]
  },
  {
   "cell_type": "markdown",
   "id": "76b1ab95",
   "metadata": {},
   "source": [
    "The generative story of the model is as follows:"
   ]
  },
  {
   "cell_type": "markdown",
   "id": "80a93863",
   "metadata": {},
   "source": [
    "Draw $\\omega^2| 4, 2 \\sim InverseGamma(4, 2)$ \n",
    "\n",
    "Draw $\\tau^2 | 4, 1.5 \\sim InverseGamma(4, 1.5)$\n",
    "\n",
    "For $i \\in \\{1,2\\dots, N\\}$:\n",
    "\n",
    "$\\;\\;\\;\\;\\;$$\\;\\;\\;\\;\\;$ Draw player merit variance for $t=0$ $\\;$ $\\sigma^{2^{(0)}}_i | 4, 2 \\sim InverseGamma(4,2) $\n",
    "\n",
    "$\\;\\;\\;\\;\\;$$\\;\\;\\;\\;\\;$ Draw player merit for $t=0$ $\\;$ $\\gamma_i^{0} | \\omega^2 \\sim {N}(0, \\omega^2)$\n",
    "\n",
    "For $i \\in \\{1,2\\dots, N\\}$:\n",
    "\n",
    "$\\;\\;\\;\\;\\;$For $t \\in \\{1,2, \\dots T\\}$:\n",
    "\n",
    "$\\;\\;\\;\\;\\;$$\\;\\;\\;\\;\\;$ Draw player merit variance $\\;$ $\\log \\sigma^{2^{(t+1)}}_i | \\sigma^{2^{(t)}}_i, \\tau^2 \\sim \\mathcal{N}(\\log \\sigma^{2^{(t)}}_i, \\tau^2) $\n",
    "\n",
    "$\\;\\;\\;\\;\\;$$\\;\\;\\;\\;\\;$ Draw player merit $\\;$ $\\gamma_i^{(t+1)} | \\rho, \\sigma^{2^{(t+1)}}_i \\sim {N}(\\rho \\gamma_i^{(t)}, \\sigma^{2^{(t+1)}}_i)$\n",
    "\n",
    "$\\;\\;\\;\\;\\;$$\\;\\;\\;\\;\\;$ For $j \\in \\mathcal{O}_i^{(t)}$:\n",
    "\n",
    "$\\;\\;\\;\\;\\;$$\\;\\;\\;\\;\\;$$\\;\\;\\;\\;\\;$ Draw score $\\;$ $s_{ij}^{(t)} \\sim Bernoulli(S(\\gamma_i^{(t)} - \\gamma_j^{(t)}))$"
   ]
  },
  {
   "cell_type": "markdown",
   "id": "cc198018",
   "metadata": {},
   "source": [
    "The model we work is based on a popular Bayesian statistical model called Glicko2, an extension of Glicko model, which is the first Bayesian rating model that models uncertainity of player merits in a time dependent manner. In Glicko2, the latent merit/skills of each player are drawn from a Normal distribution, and the variance of normal distribution are drawn from lognormal distribution. Morover, the probability of winning is modeled by a logistic curve. "
   ]
  },
  {
   "cell_type": "markdown",
   "id": "ce7ccb2b",
   "metadata": {},
   "source": [
    "# 3. Inference"
   ]
  },
  {
   "cell_type": "markdown",
   "id": "53464385",
   "metadata": {},
   "source": [
    "We make posterior predictive checks. However, it can be hard making posterior predictive checks in a discrete setting. (write this to critisizm ?)"
   ]
  },
  {
   "cell_type": "markdown",
   "id": "e17ed09e",
   "metadata": {},
   "source": [
    "## 1.Hamiltonian Monte Carlo Markov Chain (HMC)"
   ]
  },
  {
   "cell_type": "markdown",
   "id": "40c05523",
   "metadata": {},
   "source": [
    "In this section, we make Bayesian inference by sampling. Specifically, as thought in the class, we sample from the analytically intractable posterior and use them while reasoning about the model. The training procedure and a convergence metric, namely **trace plot** for a parameter $\\gamma_{22}$, are as follows:"
   ]
  },
  {
   "cell_type": "code",
   "execution_count": 2,
   "id": "60195c36",
   "metadata": {},
   "outputs": [
    {
     "name": "stderr",
     "output_type": "stream",
     "text": [
      "INFO:cmdstanpy:found newer exe file, not recompiling\n",
      "INFO:cmdstanpy:compiled model file: /home/mk4139/Glicko2_/glicko/glicko\n",
      "INFO:cmdstanpy:start chain 1\n",
      "INFO:cmdstanpy:start chain 2\n",
      "INFO:cmdstanpy:start chain 3\n",
      "INFO:cmdstanpy:start chain 4\n",
      "INFO:cmdstanpy:finish chain 4\n",
      "INFO:cmdstanpy:finish chain 3\n",
      "INFO:cmdstanpy:finish chain 1\n",
      "INFO:cmdstanpy:finish chain 2\n"
     ]
    },
    {
     "data": {
      "text/html": [
       "\n",
       "    <div class=\"bk-root\">\n",
       "        <a href=\"https://bokeh.org\" target=\"_blank\" class=\"bk-logo bk-logo-small bk-logo-notebook\"></a>\n",
       "        <span id=\"1002\">Loading BokehJS ...</span>\n",
       "    </div>"
      ]
     },
     "metadata": {},
     "output_type": "display_data"
    },
    {
     "data": {
      "application/javascript": [
       "\n",
       "(function(root) {\n",
       "  function now() {\n",
       "    return new Date();\n",
       "  }\n",
       "\n",
       "  const force = true;\n",
       "\n",
       "  if (typeof root._bokeh_onload_callbacks === \"undefined\" || force === true) {\n",
       "    root._bokeh_onload_callbacks = [];\n",
       "    root._bokeh_is_loading = undefined;\n",
       "  }\n",
       "\n",
       "  const JS_MIME_TYPE = 'application/javascript';\n",
       "  const HTML_MIME_TYPE = 'text/html';\n",
       "  const EXEC_MIME_TYPE = 'application/vnd.bokehjs_exec.v0+json';\n",
       "  const CLASS_NAME = 'output_bokeh rendered_html';\n",
       "\n",
       "  /**\n",
       "   * Render data to the DOM node\n",
       "   */\n",
       "  function render(props, node) {\n",
       "    const script = document.createElement(\"script\");\n",
       "    node.appendChild(script);\n",
       "  }\n",
       "\n",
       "  /**\n",
       "   * Handle when an output is cleared or removed\n",
       "   */\n",
       "  function handleClearOutput(event, handle) {\n",
       "    const cell = handle.cell;\n",
       "\n",
       "    const id = cell.output_area._bokeh_element_id;\n",
       "    const server_id = cell.output_area._bokeh_server_id;\n",
       "    // Clean up Bokeh references\n",
       "    if (id != null && id in Bokeh.index) {\n",
       "      Bokeh.index[id].model.document.clear();\n",
       "      delete Bokeh.index[id];\n",
       "    }\n",
       "\n",
       "    if (server_id !== undefined) {\n",
       "      // Clean up Bokeh references\n",
       "      const cmd_clean = \"from bokeh.io.state import curstate; print(curstate().uuid_to_server['\" + server_id + \"'].get_sessions()[0].document.roots[0]._id)\";\n",
       "      cell.notebook.kernel.execute(cmd_clean, {\n",
       "        iopub: {\n",
       "          output: function(msg) {\n",
       "            const id = msg.content.text.trim();\n",
       "            if (id in Bokeh.index) {\n",
       "              Bokeh.index[id].model.document.clear();\n",
       "              delete Bokeh.index[id];\n",
       "            }\n",
       "          }\n",
       "        }\n",
       "      });\n",
       "      // Destroy server and session\n",
       "      const cmd_destroy = \"import bokeh.io.notebook as ion; ion.destroy_server('\" + server_id + \"')\";\n",
       "      cell.notebook.kernel.execute(cmd_destroy);\n",
       "    }\n",
       "  }\n",
       "\n",
       "  /**\n",
       "   * Handle when a new output is added\n",
       "   */\n",
       "  function handleAddOutput(event, handle) {\n",
       "    const output_area = handle.output_area;\n",
       "    const output = handle.output;\n",
       "\n",
       "    // limit handleAddOutput to display_data with EXEC_MIME_TYPE content only\n",
       "    if ((output.output_type != \"display_data\") || (!Object.prototype.hasOwnProperty.call(output.data, EXEC_MIME_TYPE))) {\n",
       "      return\n",
       "    }\n",
       "\n",
       "    const toinsert = output_area.element.find(\".\" + CLASS_NAME.split(' ')[0]);\n",
       "\n",
       "    if (output.metadata[EXEC_MIME_TYPE][\"id\"] !== undefined) {\n",
       "      toinsert[toinsert.length - 1].firstChild.textContent = output.data[JS_MIME_TYPE];\n",
       "      // store reference to embed id on output_area\n",
       "      output_area._bokeh_element_id = output.metadata[EXEC_MIME_TYPE][\"id\"];\n",
       "    }\n",
       "    if (output.metadata[EXEC_MIME_TYPE][\"server_id\"] !== undefined) {\n",
       "      const bk_div = document.createElement(\"div\");\n",
       "      bk_div.innerHTML = output.data[HTML_MIME_TYPE];\n",
       "      const script_attrs = bk_div.children[0].attributes;\n",
       "      for (let i = 0; i < script_attrs.length; i++) {\n",
       "        toinsert[toinsert.length - 1].firstChild.setAttribute(script_attrs[i].name, script_attrs[i].value);\n",
       "        toinsert[toinsert.length - 1].firstChild.textContent = bk_div.children[0].textContent\n",
       "      }\n",
       "      // store reference to server id on output_area\n",
       "      output_area._bokeh_server_id = output.metadata[EXEC_MIME_TYPE][\"server_id\"];\n",
       "    }\n",
       "  }\n",
       "\n",
       "  function register_renderer(events, OutputArea) {\n",
       "\n",
       "    function append_mime(data, metadata, element) {\n",
       "      // create a DOM node to render to\n",
       "      const toinsert = this.create_output_subarea(\n",
       "        metadata,\n",
       "        CLASS_NAME,\n",
       "        EXEC_MIME_TYPE\n",
       "      );\n",
       "      this.keyboard_manager.register_events(toinsert);\n",
       "      // Render to node\n",
       "      const props = {data: data, metadata: metadata[EXEC_MIME_TYPE]};\n",
       "      render(props, toinsert[toinsert.length - 1]);\n",
       "      element.append(toinsert);\n",
       "      return toinsert\n",
       "    }\n",
       "\n",
       "    /* Handle when an output is cleared or removed */\n",
       "    events.on('clear_output.CodeCell', handleClearOutput);\n",
       "    events.on('delete.Cell', handleClearOutput);\n",
       "\n",
       "    /* Handle when a new output is added */\n",
       "    events.on('output_added.OutputArea', handleAddOutput);\n",
       "\n",
       "    /**\n",
       "     * Register the mime type and append_mime function with output_area\n",
       "     */\n",
       "    OutputArea.prototype.register_mime_type(EXEC_MIME_TYPE, append_mime, {\n",
       "      /* Is output safe? */\n",
       "      safe: true,\n",
       "      /* Index of renderer in `output_area.display_order` */\n",
       "      index: 0\n",
       "    });\n",
       "  }\n",
       "\n",
       "  // register the mime type if in Jupyter Notebook environment and previously unregistered\n",
       "  if (root.Jupyter !== undefined) {\n",
       "    const events = require('base/js/events');\n",
       "    const OutputArea = require('notebook/js/outputarea').OutputArea;\n",
       "\n",
       "    if (OutputArea.prototype.mime_types().indexOf(EXEC_MIME_TYPE) == -1) {\n",
       "      register_renderer(events, OutputArea);\n",
       "    }\n",
       "  }\n",
       "\n",
       "  \n",
       "  if (typeof (root._bokeh_timeout) === \"undefined\" || force === true) {\n",
       "    root._bokeh_timeout = Date.now() + 5000;\n",
       "    root._bokeh_failed_load = false;\n",
       "  }\n",
       "\n",
       "  const NB_LOAD_WARNING = {'data': {'text/html':\n",
       "     \"<div style='background-color: #fdd'>\\n\"+\n",
       "     \"<p>\\n\"+\n",
       "     \"BokehJS does not appear to have successfully loaded. If loading BokehJS from CDN, this \\n\"+\n",
       "     \"may be due to a slow or bad network connection. Possible fixes:\\n\"+\n",
       "     \"</p>\\n\"+\n",
       "     \"<ul>\\n\"+\n",
       "     \"<li>re-rerun `output_notebook()` to attempt to load from CDN again, or</li>\\n\"+\n",
       "     \"<li>use INLINE resources instead, as so:</li>\\n\"+\n",
       "     \"</ul>\\n\"+\n",
       "     \"<code>\\n\"+\n",
       "     \"from bokeh.resources import INLINE\\n\"+\n",
       "     \"output_notebook(resources=INLINE)\\n\"+\n",
       "     \"</code>\\n\"+\n",
       "     \"</div>\"}};\n",
       "\n",
       "  function display_loaded() {\n",
       "    const el = document.getElementById(\"1002\");\n",
       "    if (el != null) {\n",
       "      el.textContent = \"BokehJS is loading...\";\n",
       "    }\n",
       "    if (root.Bokeh !== undefined) {\n",
       "      if (el != null) {\n",
       "        el.textContent = \"BokehJS \" + root.Bokeh.version + \" successfully loaded.\";\n",
       "      }\n",
       "    } else if (Date.now() < root._bokeh_timeout) {\n",
       "      setTimeout(display_loaded, 100)\n",
       "    }\n",
       "  }\n",
       "\n",
       "\n",
       "  function run_callbacks() {\n",
       "    try {\n",
       "      root._bokeh_onload_callbacks.forEach(function(callback) {\n",
       "        if (callback != null)\n",
       "          callback();\n",
       "      });\n",
       "    } finally {\n",
       "      delete root._bokeh_onload_callbacks\n",
       "    }\n",
       "    console.debug(\"Bokeh: all callbacks have finished\");\n",
       "  }\n",
       "\n",
       "  function load_libs(css_urls, js_urls, callback) {\n",
       "    if (css_urls == null) css_urls = [];\n",
       "    if (js_urls == null) js_urls = [];\n",
       "\n",
       "    root._bokeh_onload_callbacks.push(callback);\n",
       "    if (root._bokeh_is_loading > 0) {\n",
       "      console.debug(\"Bokeh: BokehJS is being loaded, scheduling callback at\", now());\n",
       "      return null;\n",
       "    }\n",
       "    if (js_urls == null || js_urls.length === 0) {\n",
       "      run_callbacks();\n",
       "      return null;\n",
       "    }\n",
       "    console.debug(\"Bokeh: BokehJS not loaded, scheduling load and callback at\", now());\n",
       "    root._bokeh_is_loading = css_urls.length + js_urls.length;\n",
       "\n",
       "    function on_load() {\n",
       "      root._bokeh_is_loading--;\n",
       "      if (root._bokeh_is_loading === 0) {\n",
       "        console.debug(\"Bokeh: all BokehJS libraries/stylesheets loaded\");\n",
       "        run_callbacks()\n",
       "      }\n",
       "    }\n",
       "\n",
       "    function on_error(url) {\n",
       "      console.error(\"failed to load \" + url);\n",
       "    }\n",
       "\n",
       "    for (let i = 0; i < css_urls.length; i++) {\n",
       "      const url = css_urls[i];\n",
       "      const element = document.createElement(\"link\");\n",
       "      element.onload = on_load;\n",
       "      element.onerror = on_error.bind(null, url);\n",
       "      element.rel = \"stylesheet\";\n",
       "      element.type = \"text/css\";\n",
       "      element.href = url;\n",
       "      console.debug(\"Bokeh: injecting link tag for BokehJS stylesheet: \", url);\n",
       "      document.body.appendChild(element);\n",
       "    }\n",
       "\n",
       "    for (let i = 0; i < js_urls.length; i++) {\n",
       "      const url = js_urls[i];\n",
       "      const element = document.createElement('script');\n",
       "      element.onload = on_load;\n",
       "      element.onerror = on_error.bind(null, url);\n",
       "      element.async = false;\n",
       "      element.src = url;\n",
       "      console.debug(\"Bokeh: injecting script tag for BokehJS library: \", url);\n",
       "      document.head.appendChild(element);\n",
       "    }\n",
       "  };\n",
       "\n",
       "  function inject_raw_css(css) {\n",
       "    const element = document.createElement(\"style\");\n",
       "    element.appendChild(document.createTextNode(css));\n",
       "    document.body.appendChild(element);\n",
       "  }\n",
       "\n",
       "  \n",
       "  const js_urls = [\"https://cdn.bokeh.org/bokeh/release/bokeh-2.4.1.min.js\", \"https://cdn.bokeh.org/bokeh/release/bokeh-gl-2.4.1.min.js\", \"https://cdn.bokeh.org/bokeh/release/bokeh-widgets-2.4.1.min.js\", \"https://cdn.bokeh.org/bokeh/release/bokeh-tables-2.4.1.min.js\", \"https://cdn.bokeh.org/bokeh/release/bokeh-mathjax-2.4.1.min.js\", \"https://unpkg.com/@holoviz/panel@0.12.5/dist/panel.min.js\"];\n",
       "  const css_urls = [];\n",
       "  \n",
       "\n",
       "  const inline_js = [\n",
       "    function(Bokeh) {\n",
       "      Bokeh.set_log_level(\"info\");\n",
       "    },\n",
       "    function(Bokeh) {\n",
       "    \n",
       "    \n",
       "    }\n",
       "  ];\n",
       "\n",
       "  function run_inline_js() {\n",
       "    \n",
       "    if (root.Bokeh !== undefined || force === true) {\n",
       "      \n",
       "    for (let i = 0; i < inline_js.length; i++) {\n",
       "      inline_js[i].call(root, root.Bokeh);\n",
       "    }\n",
       "    if (force === true) {\n",
       "        display_loaded();\n",
       "      }} else if (Date.now() < root._bokeh_timeout) {\n",
       "      setTimeout(run_inline_js, 100);\n",
       "    } else if (!root._bokeh_failed_load) {\n",
       "      console.log(\"Bokeh: BokehJS failed to load within specified timeout.\");\n",
       "      root._bokeh_failed_load = true;\n",
       "    } else if (force !== true) {\n",
       "      const cell = $(document.getElementById(\"1002\")).parents('.cell').data().cell;\n",
       "      cell.output_area.append_execute_result(NB_LOAD_WARNING)\n",
       "    }\n",
       "\n",
       "  }\n",
       "\n",
       "  if (root._bokeh_is_loading === 0) {\n",
       "    console.debug(\"Bokeh: BokehJS loaded, going straight to plotting\");\n",
       "    run_inline_js();\n",
       "  } else {\n",
       "    load_libs(css_urls, js_urls, function() {\n",
       "      console.debug(\"Bokeh: BokehJS plotting callback run at\", now());\n",
       "      run_inline_js();\n",
       "    });\n",
       "  }\n",
       "}(window));"
      ],
      "application/vnd.bokehjs_load.v0+json": "\n(function(root) {\n  function now() {\n    return new Date();\n  }\n\n  const force = true;\n\n  if (typeof root._bokeh_onload_callbacks === \"undefined\" || force === true) {\n    root._bokeh_onload_callbacks = [];\n    root._bokeh_is_loading = undefined;\n  }\n\n  \n\n  \n  if (typeof (root._bokeh_timeout) === \"undefined\" || force === true) {\n    root._bokeh_timeout = Date.now() + 5000;\n    root._bokeh_failed_load = false;\n  }\n\n  const NB_LOAD_WARNING = {'data': {'text/html':\n     \"<div style='background-color: #fdd'>\\n\"+\n     \"<p>\\n\"+\n     \"BokehJS does not appear to have successfully loaded. If loading BokehJS from CDN, this \\n\"+\n     \"may be due to a slow or bad network connection. Possible fixes:\\n\"+\n     \"</p>\\n\"+\n     \"<ul>\\n\"+\n     \"<li>re-rerun `output_notebook()` to attempt to load from CDN again, or</li>\\n\"+\n     \"<li>use INLINE resources instead, as so:</li>\\n\"+\n     \"</ul>\\n\"+\n     \"<code>\\n\"+\n     \"from bokeh.resources import INLINE\\n\"+\n     \"output_notebook(resources=INLINE)\\n\"+\n     \"</code>\\n\"+\n     \"</div>\"}};\n\n  function display_loaded() {\n    const el = document.getElementById(\"1002\");\n    if (el != null) {\n      el.textContent = \"BokehJS is loading...\";\n    }\n    if (root.Bokeh !== undefined) {\n      if (el != null) {\n        el.textContent = \"BokehJS \" + root.Bokeh.version + \" successfully loaded.\";\n      }\n    } else if (Date.now() < root._bokeh_timeout) {\n      setTimeout(display_loaded, 100)\n    }\n  }\n\n\n  function run_callbacks() {\n    try {\n      root._bokeh_onload_callbacks.forEach(function(callback) {\n        if (callback != null)\n          callback();\n      });\n    } finally {\n      delete root._bokeh_onload_callbacks\n    }\n    console.debug(\"Bokeh: all callbacks have finished\");\n  }\n\n  function load_libs(css_urls, js_urls, callback) {\n    if (css_urls == null) css_urls = [];\n    if (js_urls == null) js_urls = [];\n\n    root._bokeh_onload_callbacks.push(callback);\n    if (root._bokeh_is_loading > 0) {\n      console.debug(\"Bokeh: BokehJS is being loaded, scheduling callback at\", now());\n      return null;\n    }\n    if (js_urls == null || js_urls.length === 0) {\n      run_callbacks();\n      return null;\n    }\n    console.debug(\"Bokeh: BokehJS not loaded, scheduling load and callback at\", now());\n    root._bokeh_is_loading = css_urls.length + js_urls.length;\n\n    function on_load() {\n      root._bokeh_is_loading--;\n      if (root._bokeh_is_loading === 0) {\n        console.debug(\"Bokeh: all BokehJS libraries/stylesheets loaded\");\n        run_callbacks()\n      }\n    }\n\n    function on_error(url) {\n      console.error(\"failed to load \" + url);\n    }\n\n    for (let i = 0; i < css_urls.length; i++) {\n      const url = css_urls[i];\n      const element = document.createElement(\"link\");\n      element.onload = on_load;\n      element.onerror = on_error.bind(null, url);\n      element.rel = \"stylesheet\";\n      element.type = \"text/css\";\n      element.href = url;\n      console.debug(\"Bokeh: injecting link tag for BokehJS stylesheet: \", url);\n      document.body.appendChild(element);\n    }\n\n    for (let i = 0; i < js_urls.length; i++) {\n      const url = js_urls[i];\n      const element = document.createElement('script');\n      element.onload = on_load;\n      element.onerror = on_error.bind(null, url);\n      element.async = false;\n      element.src = url;\n      console.debug(\"Bokeh: injecting script tag for BokehJS library: \", url);\n      document.head.appendChild(element);\n    }\n  };\n\n  function inject_raw_css(css) {\n    const element = document.createElement(\"style\");\n    element.appendChild(document.createTextNode(css));\n    document.body.appendChild(element);\n  }\n\n  \n  const js_urls = [\"https://cdn.bokeh.org/bokeh/release/bokeh-2.4.1.min.js\", \"https://cdn.bokeh.org/bokeh/release/bokeh-gl-2.4.1.min.js\", \"https://cdn.bokeh.org/bokeh/release/bokeh-widgets-2.4.1.min.js\", \"https://cdn.bokeh.org/bokeh/release/bokeh-tables-2.4.1.min.js\", \"https://cdn.bokeh.org/bokeh/release/bokeh-mathjax-2.4.1.min.js\", \"https://unpkg.com/@holoviz/panel@0.12.5/dist/panel.min.js\"];\n  const css_urls = [];\n  \n\n  const inline_js = [\n    function(Bokeh) {\n      Bokeh.set_log_level(\"info\");\n    },\n    function(Bokeh) {\n    \n    \n    }\n  ];\n\n  function run_inline_js() {\n    \n    if (root.Bokeh !== undefined || force === true) {\n      \n    for (let i = 0; i < inline_js.length; i++) {\n      inline_js[i].call(root, root.Bokeh);\n    }\n    if (force === true) {\n        display_loaded();\n      }} else if (Date.now() < root._bokeh_timeout) {\n      setTimeout(run_inline_js, 100);\n    } else if (!root._bokeh_failed_load) {\n      console.log(\"Bokeh: BokehJS failed to load within specified timeout.\");\n      root._bokeh_failed_load = true;\n    } else if (force !== true) {\n      const cell = $(document.getElementById(\"1002\")).parents('.cell').data().cell;\n      cell.output_area.append_execute_result(NB_LOAD_WARNING)\n    }\n\n  }\n\n  if (root._bokeh_is_loading === 0) {\n    console.debug(\"Bokeh: BokehJS loaded, going straight to plotting\");\n    run_inline_js();\n  } else {\n    load_libs(css_urls, js_urls, function() {\n      console.debug(\"Bokeh: BokehJS plotting callback run at\", now());\n      run_inline_js();\n    });\n  }\n}(window));"
     },
     "metadata": {},
     "output_type": "display_data"
    },
    {
     "data": {
      "text/html": [
       "\n",
       "\n",
       "\n",
       "\n",
       "\n",
       "\n",
       "  <div class=\"bk-root\" id=\"a4175f0b-78cb-42da-b53a-dc3a58d01f2e\" data-root-id=\"1003\"></div>\n"
      ]
     },
     "metadata": {},
     "output_type": "display_data"
    },
    {
     "data": {
      "application/javascript": [
       "(function(root) {\n",
       "  function embed_document(root) {\n",
       "    \n",
       "  const docs_json = {\"28187583-35c5-4d15-a792-ba576085141b\":{\"defs\":[{\"extends\":null,\"module\":null,\"name\":\"ReactiveHTML1\",\"overrides\":[],\"properties\":[]},{\"extends\":null,\"module\":null,\"name\":\"FlexBox1\",\"overrides\":[],\"properties\":[{\"default\":\"flex-start\",\"kind\":null,\"name\":\"align_content\"},{\"default\":\"flex-start\",\"kind\":null,\"name\":\"align_items\"},{\"default\":\"row\",\"kind\":null,\"name\":\"flex_direction\"},{\"default\":\"wrap\",\"kind\":null,\"name\":\"flex_wrap\"},{\"default\":\"flex-start\",\"kind\":null,\"name\":\"justify_content\"}]},{\"extends\":null,\"module\":null,\"name\":\"TemplateActions1\",\"overrides\":[],\"properties\":[{\"default\":0,\"kind\":null,\"name\":\"open_modal\"},{\"default\":0,\"kind\":null,\"name\":\"close_modal\"}]},{\"extends\":null,\"module\":null,\"name\":\"MaterialTemplateActions1\",\"overrides\":[],\"properties\":[{\"default\":0,\"kind\":null,\"name\":\"open_modal\"},{\"default\":0,\"kind\":null,\"name\":\"close_modal\"}]}],\"roots\":{\"references\":[{\"attributes\":{\"below\":[{\"id\":\"1012\"}],\"center\":[{\"id\":\"1015\"},{\"id\":\"1019\"}],\"frame_height\":150,\"frame_width\":600,\"left\":[{\"id\":\"1016\"}],\"renderers\":[{\"id\":\"1038\"},{\"id\":\"1044\"},{\"id\":\"1050\"},{\"id\":\"1056\"}],\"title\":{\"id\":\"1058\"},\"toolbar\":{\"id\":\"1027\"},\"x_range\":{\"id\":\"1004\"},\"x_scale\":{\"id\":\"1008\"},\"y_range\":{\"id\":\"1006\"},\"y_scale\":{\"id\":\"1010\"}},\"id\":\"1003\",\"subtype\":\"Figure\",\"type\":\"Plot\"},{\"attributes\":{\"line_alpha\":0.2,\"line_color\":\"#ff7e0e\",\"line_width\":0.5,\"x\":{\"field\":\"x\"},\"y\":{\"field\":\"y\"}},\"id\":\"1043\",\"type\":\"Line\"},{\"attributes\":{},\"id\":\"1062\",\"type\":\"AllLabels\"},{\"attributes\":{\"coordinates\":null,\"data_source\":{\"id\":\"1040\"},\"glyph\":{\"id\":\"1041\"},\"group\":null,\"hover_glyph\":null,\"muted_glyph\":{\"id\":\"1043\"},\"nonselection_glyph\":{\"id\":\"1042\"},\"view\":{\"id\":\"1045\"}},\"id\":\"1044\",\"type\":\"GlyphRenderer\"},{\"attributes\":{},\"id\":\"1072\",\"type\":\"UnionRenderers\"},{\"attributes\":{\"line_alpha\":0.1,\"line_color\":\"#ff7e0e\",\"line_width\":0.5,\"x\":{\"field\":\"x\"},\"y\":{\"field\":\"y\"}},\"id\":\"1042\",\"type\":\"Line\"},{\"attributes\":{\"data\":{\"x\":[0,1,2,3,4,5,6,7,8,9,10,11,12,13,14,15,16,17,18,19,20,21,22,23,24,25,26,27,28,29,30,31,32,33,34,35,36,37,38,39,40,41,42,43,44,45,46,47,48,49,50,51,52,53,54,55,56,57,58,59,60,61,62,63,64,65,66,67,68,69,70,71,72,73,74,75,76,77,78,79,80,81,82,83,84,85,86,87,88,89,90,91,92,93,94,95,96,97,98,99,100,101,102,103,104,105,106,107,108,109,110,111,112,113,114,115,116,117,118,119,120,121,122,123,124,125,126,127,128,129,130,131,132,133,134,135,136,137,138,139,140,141,142,143,144,145,146,147,148,149,150,151,152,153,154,155,156,157,158,159,160,161,162,163,164,165,166,167,168,169,170,171,172,173,174,175,176,177,178,179,180,181,182,183,184,185,186,187,188,189,190,191,192,193,194,195,196,197,198,199,200,201,202,203,204,205,206,207,208,209,210,211,212,213,214,215,216,217,218,219,220,221,222,223,224,225,226,227,228,229,230,231,232,233,234,235,236,237,238,239,240,241,242,243,244,245,246,247,248,249,250,251,252,253,254,255,256,257,258,259,260,261,262,263,264,265,266,267,268,269,270,271,272,273,274,275,276,277,278,279,280,281,282,283,284,285,286,287,288,289,290,291,292,293,294,295,296,297,298,299,300,301,302,303,304,305,306,307,308,309,310,311,312,313,314,315,316,317,318,319,320,321,322,323,324,325,326,327,328,329,330,331,332,333,334,335,336,337,338,339,340,341,342,343,344,345,346,347,348,349,350,351,352,353,354,355,356,357,358,359,360,361,362,363,364,365,366,367,368,369,370,371,372,373,374,375,376,377,378,379,380,381,382,383,384,385,386,387,388,389,390,391,392,393,394,395,396,397,398,399,400,401,402,403,404,405,406,407,408,409,410,411,412,413,414,415,416,417,418,419,420,421,422,423,424,425,426,427,428,429,430,431,432,433,434,435,436,437,438,439,440,441,442,443,444,445,446,447,448,449,450,451,452,453,454,455,456,457,458,459,460,461,462,463,464,465,466,467,468,469,470,471,472,473,474,475,476,477,478,479,480,481,482,483,484,485,486,487,488,489,490,491,492,493,494,495,496,497,498,499,500,501,502,503,504,505,506,507,508,509,510,511,512,513,514,515,516,517,518,519,520,521,522,523,524,525,526,527,528,529,530,531,532,533,534,535,536,537,538,539,540,541,542,543,544,545,546,547,548,549,550,551,552,553,554,555,556,557,558,559,560,561,562,563,564,565,566,567,568,569,570,571,572,573,574,575,576,577,578,579,580,581,582,583,584,585,586,587,588,589,590,591,592,593,594,595,596,597,598,599,600,601,602,603,604,605,606,607,608,609,610,611,612,613,614,615,616,617,618,619,620,621,622,623,624,625,626,627,628,629,630,631,632,633,634,635,636,637,638,639,640,641,642,643,644,645,646,647,648,649,650,651,652,653,654,655,656,657,658,659,660,661,662,663,664,665,666,667,668,669,670,671,672,673,674,675,676,677,678,679,680,681,682,683,684,685,686,687,688,689,690,691,692,693,694,695,696,697,698,699,700,701,702,703,704,705,706,707,708,709,710,711,712,713,714,715,716,717,718,719,720,721,722,723,724,725,726,727,728,729,730,731,732,733,734,735,736,737,738,739,740,741,742,743,744,745,746,747,748,749,750,751,752,753,754,755,756,757,758,759,760,761,762,763,764,765,766,767,768,769,770,771,772,773,774,775,776,777,778,779,780,781,782,783,784,785,786,787,788,789,790,791,792,793,794,795,796,797,798,799,800,801,802,803,804,805,806,807,808,809,810,811,812,813,814,815,816,817,818,819,820,821,822,823,824,825,826,827,828,829,830,831,832,833,834,835,836,837,838,839,840,841,842,843,844,845,846,847,848,849,850,851,852,853,854,855,856,857,858,859,860,861,862,863,864,865,866,867,868,869,870,871,872,873,874,875,876,877,878,879,880,881,882,883,884,885,886,887,888,889,890,891,892,893,894,895,896,897,898,899,900,901,902,903,904,905,906,907,908,909,910,911,912,913,914,915,916,917,918,919,920,921,922,923,924,925,926,927,928,929,930,931,932,933,934,935,936,937,938,939,940,941,942,943,944,945,946,947,948,949,950,951,952,953,954,955,956,957,958,959,960,961,962,963,964,965,966,967,968,969,970,971,972,973,974,975,976,977,978,979,980,981,982,983,984,985,986,987,988,989,990,991,992,993,994,995,996,997,998,999],\"y\":{\"__ndarray__\":\"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\",\"dtype\":\"float64\",\"order\":\"little\",\"shape\":[1000]}},\"selected\":{\"id\":\"1069\"},\"selection_policy\":{\"id\":\"1068\"}},\"id\":\"1040\",\"type\":\"ColumnDataSource\"},{\"attributes\":{\"line_color\":\"#ff7e0e\",\"line_width\":0.5,\"x\":{\"field\":\"x\"},\"y\":{\"field\":\"y\"}},\"id\":\"1041\",\"type\":\"Line\"},{\"attributes\":{},\"id\":\"1006\",\"type\":\"DataRange1d\"},{\"attributes\":{},\"id\":\"1073\",\"type\":\"Selection\"},{\"attributes\":{},\"id\":\"1010\",\"type\":\"LinearScale\"},{\"attributes\":{},\"id\":\"1008\",\"type\":\"LinearScale\"},{\"attributes\":{},\"id\":\"1068\",\"type\":\"UnionRenderers\"},{\"attributes\":{\"axis_label\":\"step\",\"coordinates\":null,\"formatter\":{\"id\":\"1064\"},\"group\":null,\"major_label_policy\":{\"id\":\"1065\"},\"ticker\":{\"id\":\"1013\"}},\"id\":\"1012\",\"type\":\"LinearAxis\"},{\"attributes\":{\"line_color\":\"#d62628\",\"line_width\":0.5,\"x\":{\"field\":\"x\"},\"y\":{\"field\":\"y\"}},\"id\":\"1053\",\"type\":\"Line\"},{\"attributes\":{},\"id\":\"1013\",\"type\":\"BasicTicker\"},{\"attributes\":{},\"id\":\"1069\",\"type\":\"Selection\"},{\"attributes\":{\"data\":{\"x\":[0,1,2,3,4,5,6,7,8,9,10,11,12,13,14,15,16,17,18,19,20,21,22,23,24,25,26,27,28,29,30,31,32,33,34,35,36,37,38,39,40,41,42,43,44,45,46,47,48,49,50,51,52,53,54,55,56,57,58,59,60,61,62,63,64,65,66,67,68,69,70,71,72,73,74,75,76,77,78,79,80,81,82,83,84,85,86,87,88,89,90,91,92,93,94,95,96,97,98,99,100,101,102,103,104,105,106,107,108,109,110,111,112,113,114,115,116,117,118,119,120,121,122,123,124,125,126,127,128,129,130,131,132,133,134,135,136,137,138,139,140,141,142,143,144,145,146,147,148,149,150,151,152,153,154,155,156,157,158,159,160,161,162,163,164,165,166,167,168,169,170,171,172,173,174,175,176,177,178,179,180,181,182,183,184,185,186,187,188,189,190,191,192,193,194,195,196,197,198,199,200,201,202,203,204,205,206,207,208,209,210,211,212,213,214,215,216,217,218,219,220,221,222,223,224,225,226,227,228,229,230,231,232,233,234,235,236,237,238,239,240,241,242,243,244,245,246,247,248,249,250,251,252,253,254,255,256,257,258,259,260,261,262,263,264,265,266,267,268,269,270,271,272,273,274,275,276,277,278,279,280,281,282,283,284,285,286,287,288,289,290,291,292,293,294,295,296,297,298,299,300,301,302,303,304,305,306,307,308,309,310,311,312,313,314,315,316,317,318,319,320,321,322,323,324,325,326,327,328,329,330,331,332,333,334,335,336,337,338,339,340,341,342,343,344,345,346,347,348,349,350,351,352,353,354,355,356,357,358,359,360,361,362,363,364,365,366,367,368,369,370,371,372,373,374,375,376,377,378,379,380,381,382,383,384,385,386,387,388,389,390,391,392,393,394,395,396,397,398,399,400,401,402,403,404,405,406,407,408,409,410,411,412,413,414,415,416,417,418,419,420,421,422,423,424,425,426,427,428,429,430,431,432,433,434,435,436,437,438,439,440,441,442,443,444,445,446,447,448,449,450,451,452,453,454,455,456,457,458,459,460,461,462,463,464,465,466,467,468,469,470,471,472,473,474,475,476,477,478,479,480,481,482,483,484,485,486,487,488,489,490,491,492,493,494,495,496,497,498,499,500,501,502,503,504,505,506,507,508,509,510,511,512,513,514,515,516,517,518,519,520,521,522,523,524,525,526,527,528,529,530,531,532,533,534,535,536,537,538,539,540,541,542,543,544,545,546,547,548,549,550,551,552,553,554,555,556,557,558,559,560,561,562,563,564,565,566,567,568,569,570,571,572,573,574,575,576,577,578,579,580,581,582,583,584,585,586,587,588,589,590,591,592,593,594,595,596,597,598,599,600,601,602,603,604,605,606,607,608,609,610,611,612,613,614,615,616,617,618,619,620,621,622,623,624,625,626,627,628,629,630,631,632,633,634,635,636,637,638,639,640,641,642,643,644,645,646,647,648,649,650,651,652,653,654,655,656,657,658,659,660,661,662,663,664,665,666,667,668,669,670,671,672,673,674,675,676,677,678,679,680,681,682,683,684,685,686,687,688,689,690,691,692,693,694,695,696,697,698,699,700,701,702,703,704,705,706,707,708,709,710,711,712,713,714,715,716,717,718,719,720,721,722,723,724,725,726,727,728,729,730,731,732,733,734,735,736,737,738,739,740,741,742,743,744,745,746,747,748,749,750,751,752,753,754,755,756,757,758,759,760,761,762,763,764,765,766,767,768,769,770,771,772,773,774,775,776,777,778,779,780,781,782,783,784,785,786,787,788,789,790,791,792,793,794,795,796,797,798,799,800,801,802,803,804,805,806,807,808,809,810,811,812,813,814,815,816,817,818,819,820,821,822,823,824,825,826,827,828,829,830,831,832,833,834,835,836,837,838,839,840,841,842,843,844,845,846,847,848,849,850,851,852,853,854,855,856,857,858,859,860,861,862,863,864,865,866,867,868,869,870,871,872,873,874,875,876,877,878,879,880,881,882,883,884,885,886,887,888,889,890,891,892,893,894,895,896,897,898,899,900,901,902,903,904,905,906,907,908,909,910,911,912,913,914,915,916,917,918,919,920,921,922,923,924,925,926,927,928,929,930,931,932,933,934,935,936,937,938,939,940,941,942,943,944,945,946,947,948,949,950,951,952,953,954,955,956,957,958,959,960,961,962,963,964,965,966,967,968,969,970,971,972,973,974,975,976,977,978,979,980,981,982,983,984,985,986,987,988,989,990,991,992,993,994,995,996,997,998,999],\"y\":{\"__ndarray__\":\"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\",\"dtype\":\"float64\",\"order\":\"little\",\"shape\":[1000]}},\"selected\":{\"id\":\"1073\"},\"selection_policy\":{\"id\":\"1072\"}},\"id\":\"1052\",\"type\":\"ColumnDataSource\"},{\"attributes\":{\"axis\":{\"id\":\"1012\"},\"coordinates\":null,\"group\":null,\"ticker\":null},\"id\":\"1015\",\"type\":\"Grid\"},{\"attributes\":{\"coordinates\":null,\"data_source\":{\"id\":\"1052\"},\"glyph\":{\"id\":\"1053\"},\"group\":null,\"hover_glyph\":null,\"muted_glyph\":{\"id\":\"1055\"},\"nonselection_glyph\":{\"id\":\"1054\"},\"view\":{\"id\":\"1057\"}},\"id\":\"1056\",\"type\":\"GlyphRenderer\"},{\"attributes\":{},\"id\":\"1021\",\"type\":\"WheelZoomTool\"},{\"attributes\":{},\"id\":\"1064\",\"type\":\"BasicTickFormatter\"},{\"attributes\":{\"axis_label\":\"gamma[2,2]\",\"coordinates\":null,\"formatter\":{\"id\":\"1061\"},\"group\":null,\"major_label_policy\":{\"id\":\"1062\"},\"ticker\":{\"id\":\"1017\"}},\"id\":\"1016\",\"type\":\"LinearAxis\"},{\"attributes\":{},\"id\":\"1065\",\"type\":\"AllLabels\"},{\"attributes\":{\"axis\":{\"id\":\"1016\"},\"coordinates\":null,\"dimension\":1,\"group\":null,\"ticker\":null},\"id\":\"1019\",\"type\":\"Grid\"},{\"attributes\":{\"line_alpha\":0.2,\"line_color\":\"#d62628\",\"line_width\":0.5,\"x\":{\"field\":\"x\"},\"y\":{\"field\":\"y\"}},\"id\":\"1055\",\"type\":\"Line\"},{\"attributes\":{},\"id\":\"1017\",\"type\":\"BasicTicker\"},{\"attributes\":{\"line_color\":\"#2ba02b\",\"line_width\":0.5,\"x\":{\"field\":\"x\"},\"y\":{\"field\":\"y\"}},\"id\":\"1047\",\"type\":\"Line\"},{\"attributes\":{\"line_alpha\":0.1,\"line_color\":\"#d62628\",\"line_width\":0.5,\"x\":{\"field\":\"x\"},\"y\":{\"field\":\"y\"}},\"id\":\"1054\",\"type\":\"Line\"},{\"attributes\":{},\"id\":\"1025\",\"type\":\"HelpTool\"},{\"attributes\":{},\"id\":\"1061\",\"type\":\"BasicTickFormatter\"},{\"attributes\":{\"source\":{\"id\":\"1052\"}},\"id\":\"1057\",\"type\":\"CDSView\"},{\"attributes\":{},\"id\":\"1020\",\"type\":\"PanTool\"},{\"attributes\":{\"line_alpha\":0.1,\"line_color\":\"#1f77b3\",\"line_width\":0.5,\"x\":{\"field\":\"x\"},\"y\":{\"field\":\"y\"}},\"id\":\"1036\",\"type\":\"Line\"},{\"attributes\":{\"tools\":[{\"id\":\"1020\"},{\"id\":\"1021\"},{\"id\":\"1022\"},{\"id\":\"1023\"},{\"id\":\"1024\"},{\"id\":\"1025\"}]},\"id\":\"1027\",\"type\":\"Toolbar\"},{\"attributes\":{\"overlay\":{\"id\":\"1026\"}},\"id\":\"1022\",\"type\":\"BoxZoomTool\"},{\"attributes\":{\"source\":{\"id\":\"1034\"}},\"id\":\"1039\",\"type\":\"CDSView\"},{\"attributes\":{},\"id\":\"1023\",\"type\":\"SaveTool\"},{\"attributes\":{},\"id\":\"1024\",\"type\":\"ResetTool\"},{\"attributes\":{\"bottom_units\":\"screen\",\"coordinates\":null,\"fill_alpha\":0.5,\"fill_color\":\"lightgrey\",\"group\":null,\"left_units\":\"screen\",\"level\":\"overlay\",\"line_alpha\":1.0,\"line_color\":\"black\",\"line_dash\":[4,4],\"line_width\":2,\"right_units\":\"screen\",\"syncable\":false,\"top_units\":\"screen\"},\"id\":\"1026\",\"type\":\"BoxAnnotation\"},{\"attributes\":{\"line_alpha\":0.2,\"line_color\":\"#1f77b3\",\"line_width\":0.5,\"x\":{\"field\":\"x\"},\"y\":{\"field\":\"y\"}},\"id\":\"1037\",\"type\":\"Line\"},{\"attributes\":{},\"id\":\"1070\",\"type\":\"UnionRenderers\"},{\"attributes\":{\"coordinates\":null,\"data_source\":{\"id\":\"1034\"},\"glyph\":{\"id\":\"1035\"},\"group\":null,\"hover_glyph\":null,\"muted_glyph\":{\"id\":\"1037\"},\"nonselection_glyph\":{\"id\":\"1036\"},\"view\":{\"id\":\"1039\"}},\"id\":\"1038\",\"type\":\"GlyphRenderer\"},{\"attributes\":{\"data\":{\"x\":[0,1,2,3,4,5,6,7,8,9,10,11,12,13,14,15,16,17,18,19,20,21,22,23,24,25,26,27,28,29,30,31,32,33,34,35,36,37,38,39,40,41,42,43,44,45,46,47,48,49,50,51,52,53,54,55,56,57,58,59,60,61,62,63,64,65,66,67,68,69,70,71,72,73,74,75,76,77,78,79,80,81,82,83,84,85,86,87,88,89,90,91,92,93,94,95,96,97,98,99,100,101,102,103,104,105,106,107,108,109,110,111,112,113,114,115,116,117,118,119,120,121,122,123,124,125,126,127,128,129,130,131,132,133,134,135,136,137,138,139,140,141,142,143,144,145,146,147,148,149,150,151,152,153,154,155,156,157,158,159,160,161,162,163,164,165,166,167,168,169,170,171,172,173,174,175,176,177,178,179,180,181,182,183,184,185,186,187,188,189,190,191,192,193,194,195,196,197,198,199,200,201,202,203,204,205,206,207,208,209,210,211,212,213,214,215,216,217,218,219,220,221,222,223,224,225,226,227,228,229,230,231,232,233,234,235,236,237,238,239,240,241,242,243,244,245,246,247,248,249,250,251,252,253,254,255,256,257,258,259,260,261,262,263,264,265,266,267,268,269,270,271,272,273,274,275,276,277,278,279,280,281,282,283,284,285,286,287,288,289,290,291,292,293,294,295,296,297,298,299,300,301,302,303,304,305,306,307,308,309,310,311,312,313,314,315,316,317,318,319,320,321,322,323,324,325,326,327,328,329,330,331,332,333,334,335,336,337,338,339,340,341,342,343,344,345,346,347,348,349,350,351,352,353,354,355,356,357,358,359,360,361,362,363,364,365,366,367,368,369,370,371,372,373,374,375,376,377,378,379,380,381,382,383,384,385,386,387,388,389,390,391,392,393,394,395,396,397,398,399,400,401,402,403,404,405,406,407,408,409,410,411,412,413,414,415,416,417,418,419,420,421,422,423,424,425,426,427,428,429,430,431,432,433,434,435,436,437,438,439,440,441,442,443,444,445,446,447,448,449,450,451,452,453,454,455,456,457,458,459,460,461,462,463,464,465,466,467,468,469,470,471,472,473,474,475,476,477,478,479,480,481,482,483,484,485,486,487,488,489,490,491,492,493,494,495,496,497,498,499,500,501,502,503,504,505,506,507,508,509,510,511,512,513,514,515,516,517,518,519,520,521,522,523,524,525,526,527,528,529,530,531,532,533,534,535,536,537,538,539,540,541,542,543,544,545,546,547,548,549,550,551,552,553,554,555,556,557,558,559,560,561,562,563,564,565,566,567,568,569,570,571,572,573,574,575,576,577,578,579,580,581,582,583,584,585,586,587,588,589,590,591,592,593,594,595,596,597,598,599,600,601,602,603,604,605,606,607,608,609,610,611,612,613,614,615,616,617,618,619,620,621,622,623,624,625,626,627,628,629,630,631,632,633,634,635,636,637,638,639,640,641,642,643,644,645,646,647,648,649,650,651,652,653,654,655,656,657,658,659,660,661,662,663,664,665,666,667,668,669,670,671,672,673,674,675,676,677,678,679,680,681,682,683,684,685,686,687,688,689,690,691,692,693,694,695,696,697,698,699,700,701,702,703,704,705,706,707,708,709,710,711,712,713,714,715,716,717,718,719,720,721,722,723,724,725,726,727,728,729,730,731,732,733,734,735,736,737,738,739,740,741,742,743,744,745,746,747,748,749,750,751,752,753,754,755,756,757,758,759,760,761,762,763,764,765,766,767,768,769,770,771,772,773,774,775,776,777,778,779,780,781,782,783,784,785,786,787,788,789,790,791,792,793,794,795,796,797,798,799,800,801,802,803,804,805,806,807,808,809,810,811,812,813,814,815,816,817,818,819,820,821,822,823,824,825,826,827,828,829,830,831,832,833,834,835,836,837,838,839,840,841,842,843,844,845,846,847,848,849,850,851,852,853,854,855,856,857,858,859,860,861,862,863,864,865,866,867,868,869,870,871,872,873,874,875,876,877,878,879,880,881,882,883,884,885,886,887,888,889,890,891,892,893,894,895,896,897,898,899,900,901,902,903,904,905,906,907,908,909,910,911,912,913,914,915,916,917,918,919,920,921,922,923,924,925,926,927,928,929,930,931,932,933,934,935,936,937,938,939,940,941,942,943,944,945,946,947,948,949,950,951,952,953,954,955,956,957,958,959,960,961,962,963,964,965,966,967,968,969,970,971,972,973,974,975,976,977,978,979,980,981,982,983,984,985,986,987,988,989,990,991,992,993,994,995,996,997,998,999],\"y\":{\"__ndarray__\":\"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\",\"dtype\":\"float64\",\"order\":\"little\",\"shape\":[1000]}},\"selected\":{\"id\":\"1067\"},\"selection_policy\":{\"id\":\"1066\"}},\"id\":\"1034\",\"type\":\"ColumnDataSource\"},{\"attributes\":{\"line_color\":\"#1f77b3\",\"line_width\":0.5,\"x\":{\"field\":\"x\"},\"y\":{\"field\":\"y\"}},\"id\":\"1035\",\"type\":\"Line\"},{\"attributes\":{},\"id\":\"1071\",\"type\":\"Selection\"},{\"attributes\":{\"data\":{\"x\":[0,1,2,3,4,5,6,7,8,9,10,11,12,13,14,15,16,17,18,19,20,21,22,23,24,25,26,27,28,29,30,31,32,33,34,35,36,37,38,39,40,41,42,43,44,45,46,47,48,49,50,51,52,53,54,55,56,57,58,59,60,61,62,63,64,65,66,67,68,69,70,71,72,73,74,75,76,77,78,79,80,81,82,83,84,85,86,87,88,89,90,91,92,93,94,95,96,97,98,99,100,101,102,103,104,105,106,107,108,109,110,111,112,113,114,115,116,117,118,119,120,121,122,123,124,125,126,127,128,129,130,131,132,133,134,135,136,137,138,139,140,141,142,143,144,145,146,147,148,149,150,151,152,153,154,155,156,157,158,159,160,161,162,163,164,165,166,167,168,169,170,171,172,173,174,175,176,177,178,179,180,181,182,183,184,185,186,187,188,189,190,191,192,193,194,195,196,197,198,199,200,201,202,203,204,205,206,207,208,209,210,211,212,213,214,215,216,217,218,219,220,221,222,223,224,225,226,227,228,229,230,231,232,233,234,235,236,237,238,239,240,241,242,243,244,245,246,247,248,249,250,251,252,253,254,255,256,257,258,259,260,261,262,263,264,265,266,267,268,269,270,271,272,273,274,275,276,277,278,279,280,281,282,283,284,285,286,287,288,289,290,291,292,293,294,295,296,297,298,299,300,301,302,303,304,305,306,307,308,309,310,311,312,313,314,315,316,317,318,319,320,321,322,323,324,325,326,327,328,329,330,331,332,333,334,335,336,337,338,339,340,341,342,343,344,345,346,347,348,349,350,351,352,353,354,355,356,357,358,359,360,361,362,363,364,365,366,367,368,369,370,371,372,373,374,375,376,377,378,379,380,381,382,383,384,385,386,387,388,389,390,391,392,393,394,395,396,397,398,399,400,401,402,403,404,405,406,407,408,409,410,411,412,413,414,415,416,417,418,419,420,421,422,423,424,425,426,427,428,429,430,431,432,433,434,435,436,437,438,439,440,441,442,443,444,445,446,447,448,449,450,451,452,453,454,455,456,457,458,459,460,461,462,463,464,465,466,467,468,469,470,471,472,473,474,475,476,477,478,479,480,481,482,483,484,485,486,487,488,489,490,491,492,493,494,495,496,497,498,499,500,501,502,503,504,505,506,507,508,509,510,511,512,513,514,515,516,517,518,519,520,521,522,523,524,525,526,527,528,529,530,531,532,533,534,535,536,537,538,539,540,541,542,543,544,545,546,547,548,549,550,551,552,553,554,555,556,557,558,559,560,561,562,563,564,565,566,567,568,569,570,571,572,573,574,575,576,577,578,579,580,581,582,583,584,585,586,587,588,589,590,591,592,593,594,595,596,597,598,599,600,601,602,603,604,605,606,607,608,609,610,611,612,613,614,615,616,617,618,619,620,621,622,623,624,625,626,627,628,629,630,631,632,633,634,635,636,637,638,639,640,641,642,643,644,645,646,647,648,649,650,651,652,653,654,655,656,657,658,659,660,661,662,663,664,665,666,667,668,669,670,671,672,673,674,675,676,677,678,679,680,681,682,683,684,685,686,687,688,689,690,691,692,693,694,695,696,697,698,699,700,701,702,703,704,705,706,707,708,709,710,711,712,713,714,715,716,717,718,719,720,721,722,723,724,725,726,727,728,729,730,731,732,733,734,735,736,737,738,739,740,741,742,743,744,745,746,747,748,749,750,751,752,753,754,755,756,757,758,759,760,761,762,763,764,765,766,767,768,769,770,771,772,773,774,775,776,777,778,779,780,781,782,783,784,785,786,787,788,789,790,791,792,793,794,795,796,797,798,799,800,801,802,803,804,805,806,807,808,809,810,811,812,813,814,815,816,817,818,819,820,821,822,823,824,825,826,827,828,829,830,831,832,833,834,835,836,837,838,839,840,841,842,843,844,845,846,847,848,849,850,851,852,853,854,855,856,857,858,859,860,861,862,863,864,865,866,867,868,869,870,871,872,873,874,875,876,877,878,879,880,881,882,883,884,885,886,887,888,889,890,891,892,893,894,895,896,897,898,899,900,901,902,903,904,905,906,907,908,909,910,911,912,913,914,915,916,917,918,919,920,921,922,923,924,925,926,927,928,929,930,931,932,933,934,935,936,937,938,939,940,941,942,943,944,945,946,947,948,949,950,951,952,953,954,955,956,957,958,959,960,961,962,963,964,965,966,967,968,969,970,971,972,973,974,975,976,977,978,979,980,981,982,983,984,985,986,987,988,989,990,991,992,993,994,995,996,997,998,999],\"y\":{\"__ndarray__\":\"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\",\"dtype\":\"float64\",\"order\":\"little\",\"shape\":[1000]}},\"selected\":{\"id\":\"1071\"},\"selection_policy\":{\"id\":\"1070\"}},\"id\":\"1046\",\"type\":\"ColumnDataSource\"},{\"attributes\":{\"line_alpha\":0.1,\"line_color\":\"#2ba02b\",\"line_width\":0.5,\"x\":{\"field\":\"x\"},\"y\":{\"field\":\"y\"}},\"id\":\"1048\",\"type\":\"Line\"},{\"attributes\":{\"end\":999},\"id\":\"1004\",\"type\":\"Range1d\"},{\"attributes\":{\"coordinates\":null,\"group\":null},\"id\":\"1058\",\"type\":\"Title\"},{\"attributes\":{},\"id\":\"1066\",\"type\":\"UnionRenderers\"},{\"attributes\":{\"source\":{\"id\":\"1040\"}},\"id\":\"1045\",\"type\":\"CDSView\"},{\"attributes\":{},\"id\":\"1067\",\"type\":\"Selection\"},{\"attributes\":{\"source\":{\"id\":\"1046\"}},\"id\":\"1051\",\"type\":\"CDSView\"},{\"attributes\":{\"coordinates\":null,\"data_source\":{\"id\":\"1046\"},\"glyph\":{\"id\":\"1047\"},\"group\":null,\"hover_glyph\":null,\"muted_glyph\":{\"id\":\"1049\"},\"nonselection_glyph\":{\"id\":\"1048\"},\"view\":{\"id\":\"1051\"}},\"id\":\"1050\",\"type\":\"GlyphRenderer\"},{\"attributes\":{\"line_alpha\":0.2,\"line_color\":\"#2ba02b\",\"line_width\":0.5,\"x\":{\"field\":\"x\"},\"y\":{\"field\":\"y\"}},\"id\":\"1049\",\"type\":\"Line\"}],\"root_ids\":[\"1003\"]},\"title\":\"Bokeh Application\",\"version\":\"2.4.1\"}};\n",
       "  const render_items = [{\"docid\":\"28187583-35c5-4d15-a792-ba576085141b\",\"root_ids\":[\"1003\"],\"roots\":{\"1003\":\"a4175f0b-78cb-42da-b53a-dc3a58d01f2e\"}}];\n",
       "  root.Bokeh.embed.embed_items_notebook(docs_json, render_items);\n",
       "\n",
       "  }\n",
       "  if (root.Bokeh !== undefined) {\n",
       "    embed_document(root);\n",
       "  } else {\n",
       "    let attempts = 0;\n",
       "    const timer = setInterval(function(root) {\n",
       "      if (root.Bokeh !== undefined) {\n",
       "        clearInterval(timer);\n",
       "        embed_document(root);\n",
       "      } else {\n",
       "        attempts++;\n",
       "        if (attempts > 100) {\n",
       "          clearInterval(timer);\n",
       "          console.log(\"Bokeh: ERROR: Unable to run BokehJS code because BokehJS library is missing\");\n",
       "        }\n",
       "      }\n",
       "    }, 10, root)\n",
       "  }\n",
       "})(window);"
      ],
      "application/vnd.bokehjs_exec.v0+json": ""
     },
     "metadata": {
      "application/vnd.bokehjs_exec.v0+json": {
       "id": "1003"
      }
     },
     "output_type": "display_data"
    }
   ],
   "source": [
    "glicko_stan = './glicko/glicko.stan'\n",
    "chess_data = './glicko/chess.data.json'\n",
    "\n",
    "observed_data = json.load(open(chess_data))\n",
    "\n",
    "glicko_stan = CmdStanModel(\n",
    "    stan_file=glicko_stan\n",
    ")\n",
    "\n",
    "glicko_mcmc = glicko_stan.sample(\n",
    "    data=chess_data,\n",
    "    chains=4,\n",
    "    iter_sampling=1000,\n",
    "    adapt_delta=0.95,\n",
    "    seed=123,\n",
    ")\n",
    "\n",
    "samples = az.from_cmdstanpy(\n",
    "    posterior=glicko_mcmc,\n",
    "    posterior_predictive=[\"score_pp\"],\n",
    ")\n",
    "\n",
    "score_pp_mcmc = np.concatenate(\n",
    "    [\n",
    "        samples.posterior_predictive[\"score_pp\"][chain] for chain in range(4)\n",
    "    ]\n",
    ")\n",
    "\n",
    "output_notebook()\n",
    "\n",
    "bokeh.io.show(\n",
    "    bebi103.viz.trace(\n",
    "        samples,\n",
    "        parameters=[\"gamma[2,2]\"]\n",
    "    )\n",
    ")"
   ]
  },
  {
   "cell_type": "markdown",
   "id": "85377ffd",
   "metadata": {},
   "source": [
    "![Box's Loop](./trace.jpg)"
   ]
  },
  {
   "cell_type": "markdown",
   "id": "8d9a0e4b",
   "metadata": {},
   "source": [
    "The trace plots, from 4 **MCMC** chains show a ..."
   ]
  },
  {
   "cell_type": "markdown",
   "id": "ade9469a",
   "metadata": {},
   "source": [
    "## 2. Mean-Field Variational Inference (VI)"
   ]
  },
  {
   "cell_type": "markdown",
   "id": "edfbc90e",
   "metadata": {},
   "source": [
    "In this section, we use mean-field variational family to approximate the intractavle posterior distribution. The training procedure and a convergence metric, namely **ELBO** by iteration, are as follows:"
   ]
  },
  {
   "cell_type": "code",
   "execution_count": 3,
   "id": "8402b6d3",
   "metadata": {},
   "outputs": [
    {
     "name": "stderr",
     "output_type": "stream",
     "text": [
      "INFO:cmdstanpy:start chain 1\n",
      "INFO:cmdstanpy:finish chain 1\n"
     ]
    },
    {
     "data": {
      "image/png": "[encoded data removed]",
      "text/plain": [
       "<Figure size 432x288 with 1 Axes>"
      ]
     },
     "metadata": {
      "needs_background": "light"
     },
     "output_type": "display_data"
    }
   ],
   "source": [
    "from glicko.plots import plot_elbo\n",
    "\n",
    "glicko_vi = glicko_stan.variational(\n",
    "    data=chess_data,\n",
    "    algorithm=\"meanfield\",\n",
    "    output_samples=4000,\n",
    "    grad_samples=5,\n",
    ")\n",
    "plot_elbo(glicko_vi)"
   ]
  },
  {
   "cell_type": "markdown",
   "id": "2215e515",
   "metadata": {},
   "source": [
    "The **ELBO** converges to a local optimum point, smoothly, as seen at the above figure."
   ]
  },
  {
   "cell_type": "code",
   "execution_count": 8,
   "id": "c464a7e3",
   "metadata": {},
   "outputs": [],
   "source": [
    "from glicko.compute import get_samples_vi\n",
    "\n",
    "score_pp_vi = get_samples_vi(\n",
    "    glicko_vi.variational_sample, \n",
    "    glicko_vi,\n",
    "    observed_data,\n",
    ")"
   ]
  },
  {
   "cell_type": "markdown",
   "id": "26d78ab4",
   "metadata": {},
   "source": [
    "## 3. Maximum a-posteriori Inference (MAP)"
   ]
  },
  {
   "cell_type": "markdown",
   "id": "6b4e3304",
   "metadata": {},
   "source": [
    "In this section, we model the intractable posterior distribution using a Dirac-delta function. This leads to MAP estimate for model parameters:"
   ]
  },
  {
   "cell_type": "code",
   "execution_count": 9,
   "id": "e61ae7ae",
   "metadata": {},
   "outputs": [
    {
     "name": "stderr",
     "output_type": "stream",
     "text": [
      "INFO:cmdstanpy:start chain 1\n",
      "INFO:cmdstanpy:finish chain 1\n"
     ]
    },
    {
     "data": {
      "image/png": "[encoded data removed]",
      "text/plain": [
       "<Figure size 432x288 with 1 Axes>"
      ]
     },
     "metadata": {
      "needs_background": "light"
     },
     "output_type": "display_data"
    }
   ],
   "source": [
    "from glicko.plots import plot_likelihood\n",
    "\n",
    "glicko_map = glicko_stan.optimize(\n",
    "    data=chess_data,\n",
    "    algorithm=\"LBFGS\",\n",
    "    iter=2000,\n",
    ")\n",
    "plot_likelihood(glicko_map)"
   ]
  },
  {
   "cell_type": "code",
   "execution_count": 15,
   "id": "e6a93cc5",
   "metadata": {},
   "outputs": [],
   "source": [
    "from glicko.compute import get_samples_map\n",
    "\n",
    "score_pp_map = get_samples_map(\n",
    "    glicko_map.optimized_params_pd,\n",
    "    observed_data,\n",
    ")"
   ]
  },
  {
   "cell_type": "markdown",
   "id": "5e8944bd",
   "metadata": {},
   "source": [
    "## 4. Criticism"
   ]
  },
  {
   "cell_type": "markdown",
   "id": "96075ccc",
   "metadata": {},
   "source": [
    "In this section, we criticize our inference algorithms using posterior predictive checks (PPC). Moving forward, we compare the algorithms with each other using the predictions generated by the posterior predictive distribution."
   ]
  },
  {
   "cell_type": "markdown",
   "id": "39b3e5d6",
   "metadata": {},
   "source": [
    "### 1.Posterior Predictive Checks:\n",
    "\n",
    "It is hard making posterior predictive checks for Bernoulli distribution. This is because Bernoulli distribution's support is in between $\\{0,1\\}$, and therefore, test statistics such as minimum and maximum may not be very informative. \n",
    "\n",
    "This leads us defining a new random variables for making posterior predictive checks:\n",
    "\n",
    "1. $X_{total}^{emp}$: Average number of time white player wins throughout all periods.\n",
    "\n",
    "   $X_{total}^{syn}:$: Average number of time white player wins throughout all periods, predicted by model.\n",
    "   \n",
    "   \n",
    "2. $X_{std}^{emp}$: The standard deviation of white player wins throughout all periods.\n",
    "\n",
    "   $X_{std}^{syn}:$: The standard deviation of white player wins throughout all periods, predicted by model.\n",
    "   \n",
    "   \n",
    "3. $X_{min}^{emp}$: The minimum of white player wins throughout all periods.\n",
    "\n",
    "   $X_{min}^{syn}:$: The minimum of white player wins throughout all periods, predicted by model.\n",
    "   \n",
    "   \n",
    "4. $X_{max}^{emp}$: The maximum of white player wins throughout all periods.\n",
    "\n",
    "   $X_{max}^{syn}:$: The maximum of white player wins throughout all periods, predicted by model.\n",
    "   \n",
    "We are interested in $P(T(X_{*}^{synt}) > T(X_{*}^{emp}))$. Where $T$ changes w.r.t. above items. As an example,  $T$ is the function that takes the average over the number of wins throughout the periods for the first case."
   ]
  },
  {
   "cell_type": "markdown",
   "id": "63fa7ec3",
   "metadata": {},
   "source": [
    "**HMC Algorithm:**"
   ]
  },
  {
   "cell_type": "markdown",
   "id": "6bf25c1f",
   "metadata": {},
   "source": [
    "Below, we see the posterior predictive checks for the **HMC** algorithm:"
   ]
  },
  {
   "cell_type": "code",
   "execution_count": 10,
   "id": "ad11181d",
   "metadata": {},
   "outputs": [
    {
     "data": {
      "image/png": "[encoded data removed]",
      "text/plain": [
       "<Figure size 1440x360 with 4 Axes>"
      ]
     },
     "metadata": {
      "needs_background": "light"
     },
     "output_type": "display_data"
    }
   ],
   "source": [
    "from glicko.plots import plot_ppc\n",
    "\n",
    "dim = 'period'\n",
    "check = ['Sum', 'Std', 'Min', 'Max']\n",
    "\n",
    "plot_ppc(score_pp_mcmc, observed_data, check, dim)"
   ]
  },
  {
   "cell_type": "markdown",
   "id": "0fdf6349",
   "metadata": {},
   "source": [
    "Bayesian p-value concerning each check is computed as:"
   ]
  },
  {
   "cell_type": "code",
   "execution_count": 20,
   "id": "b79c975f",
   "metadata": {},
   "outputs": [
    {
     "name": "stdout",
     "output_type": "stream",
     "text": [
      "p-value of 0.3875 for sum\n",
      "p-value of 0.8075000000000002 for std\n",
      "p-value of 0.39525 for min\n",
      "p-value of 0.6952500000000001 for max\n"
     ]
    }
   ],
   "source": [
    "from glicko.compute import bayesian_p\n",
    "\n",
    "for (key, value) in bayesian_p(\n",
    "    score_pp_mcmc, \n",
    "    observed_data,\n",
    "    check, \n",
    "    dim\n",
    ").items():\n",
    "\n",
    "        print('p-value of {} for {}'.format(\n",
    "            value,\n",
    "            key.lower())\n",
    "             )"
   ]
  },
  {
   "cell_type": "markdown",
   "id": "c70a2c09",
   "metadata": {},
   "source": [
    "**Mean-field VI Algorithm:**"
   ]
  },
  {
   "cell_type": "markdown",
   "id": "33c74c35",
   "metadata": {},
   "source": [
    "Below, we see the posterior predictive checks for the **Mean-field VI** algorithm:"
   ]
  },
  {
   "cell_type": "code",
   "execution_count": 14,
   "id": "89c75f0b",
   "metadata": {},
   "outputs": [
    {
     "data": {
      "image/png": "[encoded data removed]",
      "text/plain": [
       "<Figure size 1440x360 with 4 Axes>"
      ]
     },
     "metadata": {
      "needs_background": "light"
     },
     "output_type": "display_data"
    }
   ],
   "source": [
    "from glicko.plots import plot_ppc\n",
    "\n",
    "dim = 'period'\n",
    "check = ['Sum', 'Std', 'Min', 'Max']\n",
    "\n",
    "plot_ppc(score_pp_vi, observed_data, check, dim)"
   ]
  },
  {
   "cell_type": "markdown",
   "id": "9f1f2c04",
   "metadata": {},
   "source": [
    "Bayesian p-value concerning each check is computed as:"
   ]
  },
  {
   "cell_type": "code",
   "execution_count": 22,
   "id": "a97ac9de",
   "metadata": {},
   "outputs": [
    {
     "name": "stdout",
     "output_type": "stream",
     "text": [
      "p-value of 0.5927500000000001 for sum\n",
      "p-value of 0.8717500000000002 for std\n",
      "p-value of 0.5017499999999999 for min\n",
      "p-value of 0.7420000000000002 for max\n"
     ]
    }
   ],
   "source": [
    "from glicko.compute import bayesian_p\n",
    "\n",
    "for (key, value) in bayesian_p(\n",
    "    score_pp_vi, \n",
    "    observed_data,\n",
    "    check, \n",
    "    dim\n",
    ").items():\n",
    "\n",
    "        print('p-value of {} for {}'.format(\n",
    "            value,\n",
    "            key.lower())\n",
    "             )"
   ]
  },
  {
   "cell_type": "markdown",
   "id": "1312ae83",
   "metadata": {},
   "source": [
    "**MAP Algorithm:**"
   ]
  },
  {
   "cell_type": "code",
   "execution_count": 131,
   "id": "1464e09d",
   "metadata": {},
   "outputs": [
    {
     "data": {
      "image/png": "[encoded data removed]",
      "text/plain": [
       "<Figure size 1440x360 with 4 Axes>"
      ]
     },
     "metadata": {
      "needs_background": "light"
     },
     "output_type": "display_data"
    }
   ],
   "source": [
    "from glicko.plots import plot_ppc\n",
    "\n",
    "dim = 'period'\n",
    "check = ['Sum', 'Std', 'Min', 'Max']\n",
    "\n",
    "plot_ppc(score_pp_map, observed_data, check, dim)"
   ]
  },
  {
   "cell_type": "code",
   "execution_count": 135,
   "id": "40daebc4",
   "metadata": {},
   "outputs": [
    {
     "name": "stdout",
     "output_type": "stream",
     "text": [
      "p-value of 0.0 for sum\n",
      "p-value of 1.0 for std\n",
      "p-value of 0.0 for min\n",
      "p-value of 0.0 for max\n"
     ]
    }
   ],
   "source": [
    "from glicko.compute import bayesian_p\n",
    "\n",
    "for (key, value) in bayesian_p(\n",
    "    score_pp_map, \n",
    "    observed_data,\n",
    "    check, \n",
    "    dim\n",
    ").items():\n",
    "\n",
    "        print('p-value of {} for {}'.format(\n",
    "            value,\n",
    "            key.lower())\n",
    "             )"
   ]
  }
 ],
 "metadata": {
  "kernelspec": {
   "display_name": "Python 3 (ipykernel)",
   "language": "python",
   "name": "python3"
  },
  "language_info": {
   "codemirror_mode": {
    "name": "ipython",
    "version": 3
   },
   "file_extension": ".py",
   "mimetype": "text/x-python",
   "name": "python",
   "nbconvert_exporter": "python",
   "pygments_lexer": "ipython3",
   "version": "3.9.7"
  }
 },
 "nbformat": 4,
 "nbformat_minor": 5
}
