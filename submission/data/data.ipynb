{
 "cells": [
  {
   "cell_type": "markdown",
   "metadata": {},
   "source": [
    "# Data\n",
    "\n",
    "The original data set taken from the\n",
    "[Deloitte/FIDE Chess Rating Challenge](https://www.kaggle.com/c/ChessRatings2/data) on Kaggle and it includes information about 3,140,356 professional chess games played between 54,205 unique players spanning over 135 monthly periods. It includes 135-month period of professional chess game outcomes, extracted from the database of the world chess federation (FIDE)\n",
    "\n",
    "The data download and processing steps below are optional as raw and processed data sets are already provided in the [data](../data) folder. These instructions are provided to create a fully reproducible framework if users would like to start from scratch."
   ]
  },
  {
   "cell_type": "markdown",
   "metadata": {},
   "source": [
    "## Step 1: Data Download (Optional)"
   ]
  },
  {
   "cell_type": "markdown",
   "metadata": {},
   "source": [
    "### Step 1a: Set up your Kaggle API token\n",
    "\n",
    "You will need to generate a personal Kaggle API token to fetch the raw project data from the Kaggle API. If you do not want to get the token, feel free to proceed to the data processing step (Step 2) below.\n",
    "\n",
    "1. Accept the competition rules for the Deloitte/FIDE Chess Rating Challenge\n",
    "    - Go to the competition page at https://www.kaggle.com/c/ChessRatings2/rules\n",
    "    - Click on the **I Understand and Accept** button\n",
    "2. Download an API token\n",
    "    - Go to your account tab at https://www.kaggle.com/{username}/account\n",
    "    - Clink on the **Create New API Token** button\n",
    "3. Place the API token (`kaggle.json`) in your root directory\n",
    "    - Mac & Linux: `cp Downloads/kaggle.json ~/.kaggle/kaggle.json`\n",
    "4. Make the API token readable\n",
    "    - Mac & Linux: `chmod 600 ~/.kaggle/kaggle.json`"
   ]
  },
  {
   "cell_type": "markdown",
   "metadata": {},
   "source": [
    "### Step 1b: Download data\n",
    "\n",
    "The following command downloads the raw project data from the Kaggle API and overwrites the existing data sets in the [data/raw](../data/raw) folder."
   ]
  },
  {
   "cell_type": "code",
   "execution_count": 1,
   "metadata": {},
   "outputs": [],
   "source": [
    "from data import download_data"
   ]
  },
  {
   "cell_type": "code",
   "execution_count": null,
   "metadata": {},
   "outputs": [],
   "source": [
    "donwnload_data(\n",
    "    path=\"../data/raw\",  # Output path\n",
    "    force=True,          # Overwrite existing files\n",
    "    quiet=True           # Run silently\n",
    ")"
   ]
  },
  {
   "cell_type": "markdown",
   "metadata": {},
   "source": [
    "## Step 3: Data Processing (Optional)\n",
    "\n",
    "In order to downsample and process the raw data, we\n",
    "- removed games that resulted in ties\n",
    "- converted monthly periods to yearly periods, resulting in a total of 12 periods (years)\n",
    "- chose the top 103 players who played the most number of games\n",
    "- used the first 10 periods (years) for training and the remaining 2 periods (years) for testing\n",
    "\n",
    "The resulting training and testing data sets respevtively include **2570 (90.8%)** and **261 (9.2%)** games spanning over 12 yearly periods.\n",
    "\n",
    "The following command processes the raw project data and overwrites the existing data set in the [data/raw](data/processed) folder."
   ]
  },
  {
   "cell_type": "code",
   "execution_count": 3,
   "metadata": {},
   "outputs": [],
   "source": [
    "from data import process_data"
   ]
  },
  {
   "cell_type": "code",
   "execution_count": 5,
   "metadata": {},
   "outputs": [],
   "source": [
    "process_data(\n",
    "    player_num=103,                  # Keep the top 103 most frequent players             \n",
    "    period_length=12,                # Combine every 12 months into one period\n",
    "    perid_train=10,                  # Use the first 10 periods as training set\n",
    "    path_input=\"../data/raw\",        # Input path\n",
    "    path_output=\"../data/processed\"  # Output path\n",
    ")"
   ]
  }
 ],
 "metadata": {
  "kernelspec": {
   "display_name": "mlpp",
   "language": "python",
   "name": "mlpp"
  },
  "language_info": {
   "codemirror_mode": {
    "name": "ipython",
    "version": 3
   },
   "file_extension": ".py",
   "mimetype": "text/x-python",
   "name": "python",
   "nbconvert_exporter": "python",
   "pygments_lexer": "ipython3",
   "version": "3.9.7"
  }
 },
 "nbformat": 4,
 "nbformat_minor": 4
}
