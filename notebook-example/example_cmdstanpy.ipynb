{
 "cells": [
  {
   "cell_type": "code",
   "execution_count": 1,
   "metadata": {
    "colab": {},
    "colab_type": "code",
    "id": "S0Q1iNXoG808"
   },
   "outputs": [],
   "source": [
    "# Load packages used in this notebook\n",
    "import os\n",
    "import json\n",
    "import pandas as pd"
   ]
  },
  {
   "cell_type": "markdown",
   "metadata": {},
   "source": [
    "## 1. Install Stan"
   ]
  },
  {
   "cell_type": "markdown",
   "metadata": {},
   "source": [
    "#### Pass this part if already installed."
   ]
  },
  {
   "cell_type": "markdown",
   "metadata": {
    "colab_type": "text",
    "id": "ZWi7Uov0yeZO"
   },
   "source": [
    "Step 1: install CmdStanPy"
   ]
  },
  {
   "cell_type": "code",
   "execution_count": 2,
   "metadata": {
    "colab": {},
    "colab_type": "code",
    "id": "gbdHhsx_yeY3"
   },
   "outputs": [
    {
     "name": "stdout",
     "output_type": "stream",
     "text": [
      "Requirement already satisfied: cmdstanpy in /home/mk4139/miniconda3/envs/probprog/lib/python3.9/site-packages (0.9.77)\n",
      "Requirement already satisfied: numpy!=1.19.4,>=1.15 in /home/mk4139/miniconda3/envs/probprog/lib/python3.9/site-packages (from cmdstanpy) (1.21.2)\n",
      "Requirement already satisfied: ujson in /home/mk4139/miniconda3/envs/probprog/lib/python3.9/site-packages (from cmdstanpy) (4.1.0)\n",
      "Requirement already satisfied: pandas in /home/mk4139/miniconda3/envs/probprog/lib/python3.9/site-packages (from cmdstanpy) (1.3.3)\n",
      "Requirement already satisfied: pytz>=2017.3 in /home/mk4139/miniconda3/envs/probprog/lib/python3.9/site-packages (from pandas->cmdstanpy) (2021.1)\n",
      "Requirement already satisfied: python-dateutil>=2.7.3 in /home/mk4139/miniconda3/envs/probprog/lib/python3.9/site-packages (from pandas->cmdstanpy) (2.8.2)\n",
      "Requirement already satisfied: six>=1.5 in /home/mk4139/miniconda3/envs/probprog/lib/python3.9/site-packages (from python-dateutil>=2.7.3->pandas->cmdstanpy) (1.16.0)\n"
     ]
    }
   ],
   "source": [
    "# Install package CmdStanPy\n",
    "!pip install cmdstanpy"
   ]
  },
  {
   "cell_type": "markdown",
   "metadata": {
    "colab_type": "text",
    "id": "asoni75FzHsH"
   },
   "source": [
    "Step 2: install Stan itself"
   ]
  },
  {
   "cell_type": "code",
   "execution_count": 2,
   "metadata": {
    "colab": {},
    "colab_type": "code",
    "id": "Qbrn6pc_zgVg",
    "scrolled": true
   },
   "outputs": [],
   "source": [
    "# Check CmdStan path\n",
    "from cmdstanpy import CmdStanModel, cmdstan_path, install_cmdstan"
   ]
  },
  {
   "cell_type": "markdown",
   "metadata": {},
   "source": [
    "Step 3: make sure path is `~/.cmdstan`"
   ]
  },
  {
   "cell_type": "code",
   "execution_count": 4,
   "metadata": {
    "scrolled": true
   },
   "outputs": [
    {
     "data": {
      "text/plain": [
       "'/home/mk4139/.cmdstan/cmdstan-2.28.0'"
      ]
     },
     "execution_count": 4,
     "metadata": {},
     "output_type": "execute_result"
    }
   ],
   "source": [
    "cmdstan_path()"
   ]
  },
  {
   "cell_type": "markdown",
   "metadata": {
    "colab_type": "text",
    "id": "axHFBvb_zlpT"
   },
   "source": [
    "The CmdStan installation includes a simple example program `bernoulli.stan` and test data `bernoulli.data.json`. These are in the CmdStan installation directory `examples/bernoulli`.\n",
    "\n",
    "The program `bernoulli.stan` takes a vector `y` of length `N` containing binary outcomes and uses a bernoulli distribution to estimate `theta`, the chance of success."
   ]
  },
  {
   "cell_type": "code",
   "execution_count": 42,
   "metadata": {
    "colab": {},
    "colab_type": "code",
    "id": "IKejoEF1z6kl"
   },
   "outputs": [
    {
     "name": "stdout",
     "output_type": "stream",
     "text": [
      "data {\n",
      "  int<lower=0> N;\n",
      "  array[N] int<lower=0,upper=1> y; // or int<lower=0,upper=1> y[N];\n",
      "}\n",
      "parameters {\n",
      "  real<lower=0,upper=1> theta;\n",
      "}\n",
      "model {\n",
      "  theta ~ beta(1,1);  // uniform prior on interval 0,1\n",
      "  y ~ bernoulli(theta);\n",
      "}\n"
     ]
    }
   ],
   "source": [
    "bernoulli_stan = os.path.join(cmdstan_path(), 'examples', 'bernoulli', 'bernoulli.stan')\n",
    "with open(bernoulli_stan, 'r') as fd:\n",
    "        print('\\n'.join(fd.read().splitlines()))"
   ]
  },
  {
   "cell_type": "markdown",
   "metadata": {
    "colab_type": "text",
    "id": "ueXvmFy8120t"
   },
   "source": [
    "The data file `bernoulli.data.json` contains 10 observations, split between 2 successes (1) and 8 failures (0)."
   ]
  },
  {
   "cell_type": "code",
   "execution_count": 43,
   "metadata": {
    "colab": {},
    "colab_type": "code",
    "id": "_WjtpDrJ159b"
   },
   "outputs": [
    {
     "name": "stdout",
     "output_type": "stream",
     "text": [
      "{\n",
      "    \"N\" : 10,\n",
      "    \"y\" : [0,1,0,0,0,0,0,0,0,1]\n",
      "}\n"
     ]
    }
   ],
   "source": [
    "bernoulli_data = os.path.join(cmdstan_path(), 'examples', 'bernoulli', 'bernoulli.data.json')\n",
    "with open(bernoulli_data, 'r') as fd:\n",
    "        print('\\n'.join(fd.read().splitlines()))"
   ]
  },
  {
   "cell_type": "markdown",
   "metadata": {
    "colab_type": "text",
    "id": "tNIwJV5v221e"
   },
   "source": [
    "The following code test that the CmdStanPy toolchain is properly installed by compiling the example model, fitting it to the data, and obtaining a summary of estimates of the posterior distribution of all parameters and quantities of interest.\n",
    "\n"
   ]
  },
  {
   "cell_type": "code",
   "execution_count": 44,
   "metadata": {
    "colab": {},
    "colab_type": "code",
    "id": "hyk_X__R0vJc"
   },
   "outputs": [
    {
     "name": "stderr",
     "output_type": "stream",
     "text": [
      "INFO:cmdstanpy:found newer exe file, not recompiling\n",
      "INFO:cmdstanpy:compiled model file: /home/mk4139/.cmdstan/cmdstan-2.28.0/examples/bernoulli/bernoulli\n",
      "INFO:cmdstanpy:start chain 1\n",
      "INFO:cmdstanpy:start chain 2\n",
      "INFO:cmdstanpy:start chain 3\n",
      "INFO:cmdstanpy:start chain 4\n",
      "INFO:cmdstanpy:finish chain 1\n",
      "INFO:cmdstanpy:finish chain 2\n",
      "INFO:cmdstanpy:finish chain 4\n",
      "INFO:cmdstanpy:finish chain 3\n"
     ]
    }
   ],
   "source": [
    "# Run CmdStanPy Hello, World! example\n",
    "from cmdstanpy import cmdstan_path, CmdStanModel\n",
    "\n",
    "# Compile example model bernoulli.stan\n",
    "bernoulli_model = CmdStanModel(stan_file=bernoulli_stan)\n",
    "\n",
    "# Condition on example data bernoulli.data.json\n",
    "bern_fit = bernoulli_model.sample(data=bernoulli_data, seed=123)"
   ]
  },
  {
   "cell_type": "code",
   "execution_count": 45,
   "metadata": {
    "colab": {},
    "colab_type": "code",
    "id": "Nmqhy9E6_8K8"
   },
   "outputs": [
    {
     "data": {
      "text/html": [
       "<div>\n",
       "<style scoped>\n",
       "    .dataframe tbody tr th:only-of-type {\n",
       "        vertical-align: middle;\n",
       "    }\n",
       "\n",
       "    .dataframe tbody tr th {\n",
       "        vertical-align: top;\n",
       "    }\n",
       "\n",
       "    .dataframe thead th {\n",
       "        text-align: right;\n",
       "    }\n",
       "</style>\n",
       "<table border=\"1\" class=\"dataframe\">\n",
       "  <thead>\n",
       "    <tr style=\"text-align: right;\">\n",
       "      <th></th>\n",
       "      <th>Mean</th>\n",
       "      <th>MCSE</th>\n",
       "      <th>StdDev</th>\n",
       "      <th>5%</th>\n",
       "      <th>50%</th>\n",
       "      <th>95%</th>\n",
       "      <th>N_Eff</th>\n",
       "      <th>N_Eff/s</th>\n",
       "      <th>R_hat</th>\n",
       "    </tr>\n",
       "    <tr>\n",
       "      <th>name</th>\n",
       "      <th></th>\n",
       "      <th></th>\n",
       "      <th></th>\n",
       "      <th></th>\n",
       "      <th></th>\n",
       "      <th></th>\n",
       "      <th></th>\n",
       "      <th></th>\n",
       "      <th></th>\n",
       "    </tr>\n",
       "  </thead>\n",
       "  <tbody>\n",
       "    <tr>\n",
       "      <th>lp__</th>\n",
       "      <td>-7.30</td>\n",
       "      <td>0.017</td>\n",
       "      <td>0.70</td>\n",
       "      <td>-8.800</td>\n",
       "      <td>-7.00</td>\n",
       "      <td>-6.80</td>\n",
       "      <td>1700.0</td>\n",
       "      <td>21000.0</td>\n",
       "      <td>1.0</td>\n",
       "    </tr>\n",
       "    <tr>\n",
       "      <th>theta</th>\n",
       "      <td>0.25</td>\n",
       "      <td>0.003</td>\n",
       "      <td>0.12</td>\n",
       "      <td>0.082</td>\n",
       "      <td>0.23</td>\n",
       "      <td>0.46</td>\n",
       "      <td>1600.0</td>\n",
       "      <td>20000.0</td>\n",
       "      <td>1.0</td>\n",
       "    </tr>\n",
       "  </tbody>\n",
       "</table>\n",
       "</div>"
      ],
      "text/plain": [
       "       Mean   MCSE  StdDev     5%   50%   95%   N_Eff  N_Eff/s  R_hat\n",
       "name                                                                 \n",
       "lp__  -7.30  0.017    0.70 -8.800 -7.00 -6.80  1700.0  21000.0    1.0\n",
       "theta  0.25  0.003    0.12  0.082  0.23  0.46  1600.0  20000.0    1.0"
      ]
     },
     "execution_count": 45,
     "metadata": {},
     "output_type": "execute_result"
    }
   ],
   "source": [
    "# Print a summary of the posterior sample\n",
    "bern_fit.summary()"
   ]
  },
  {
   "cell_type": "markdown",
   "metadata": {},
   "source": [
    "# 2.GlickoStan"
   ]
  },
  {
   "cell_type": "markdown",
   "metadata": {},
   "source": [
    "#### Initial Code for GlickoStan:"
   ]
  },
  {
   "cell_type": "code",
   "execution_count": 122,
   "metadata": {},
   "outputs": [],
   "source": [
    "from cmdstanpy import CmdStanModel, cmdstan_path, install_cmdstan"
   ]
  },
  {
   "cell_type": "code",
   "execution_count": 123,
   "metadata": {},
   "outputs": [],
   "source": [
    "glicko_stan = '../glicko/glicko_2.stan'\n",
    "\n",
    "chess_data = '../glicko/chess.data.json'"
   ]
  },
  {
   "cell_type": "code",
   "execution_count": null,
   "metadata": {},
   "outputs": [
    {
     "name": "stderr",
     "output_type": "stream",
     "text": [
      "INFO:cmdstanpy:found newer exe file, not recompiling\n",
      "INFO:cmdstanpy:compiled model file: /home/mk4139/probprog-finalproject/glicko/glicko_2\n",
      "INFO:cmdstanpy:start chain 1\n",
      "INFO:cmdstanpy:start chain 2\n",
      "INFO:cmdstanpy:start chain 3\n",
      "INFO:cmdstanpy:start chain 4\n"
     ]
    }
   ],
   "source": [
    "glicko_stan =  CmdStanModel(stan_file=glicko_stan)\n",
    "\n",
    "glicko_fit = glicko_stan.sample(data=chess_data, seed=123)"
   ]
  }
 ],
 "metadata": {
  "colab": {
   "collapsed_sections": [],
   "include_colab_link": true,
   "name": "CmdStanPy_example_notebook.ipynb",
   "provenance": []
  },
  "kernelspec": {
   "display_name": "Python 3 (ipykernel)",
   "language": "python",
   "name": "python3"
  },
  "language_info": {
   "codemirror_mode": {
    "name": "ipython",
    "version": 3
   },
   "file_extension": ".py",
   "mimetype": "text/x-python",
   "name": "python",
   "nbconvert_exporter": "python",
   "pygments_lexer": "ipython3",
   "version": "3.9.7"
  }
 },
 "nbformat": 4,
 "nbformat_minor": 4
}
